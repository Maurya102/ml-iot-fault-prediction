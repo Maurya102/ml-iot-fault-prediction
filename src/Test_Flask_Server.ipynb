{
 "cells": [
  {
   "cell_type": "markdown",
   "metadata": {},
   "source": [
    "# Testing a Flask server for ML predictions\n",
    "\n",
    "This notebook walks through developing a flask server for serving the predictions from `Batch_Data_Training.ipynb`.\n"
   ]
  },
  {
   "cell_type": "code",
   "execution_count": 165,
   "metadata": {
    "collapsed": true
   },
   "outputs": [],
   "source": [
    "# Load libraries\n",
    "import numpy as np\n",
    "import xgboost as xgb\n",
    "from flask import Flask, abort, jsonify, request\n",
    "import pandas as pd\n",
    "import json"
   ]
  },
  {
   "cell_type": "markdown",
   "metadata": {},
   "source": [
    "## Load the trained model"
   ]
  },
  {
   "cell_type": "code",
   "execution_count": 5,
   "metadata": {
    "collapsed": false
   },
   "outputs": [],
   "source": [
    "bst = xgb.Booster() #init model\n",
    "bst.load_model(\"../0002.model\") # load data"
   ]
  },
  {
   "cell_type": "markdown",
   "metadata": {},
   "source": [
    "# Test Model predictions\n",
    "\n",
    "Before deploying the server, I'm testing how to format the data for predictions using a sample dataset."
   ]
  },
  {
   "cell_type": "code",
   "execution_count": 166,
   "metadata": {
    "collapsed": false
   },
   "outputs": [
    {
     "data": {
      "text/html": [
       "<div>\n",
       "<table border=\"1\" class=\"dataframe\">\n",
       "  <thead>\n",
       "    <tr style=\"text-align: right;\">\n",
       "      <th></th>\n",
       "      <th>Time</th>\n",
       "      <th>Fermentation volume</th>\n",
       "      <th>Dissolved oxygen concentration</th>\n",
       "      <th>Dissolved CO2 concentration</th>\n",
       "      <th>Reactor temperature</th>\n",
       "      <th>pH</th>\n",
       "      <th>Feed rate</th>\n",
       "      <th>Feed temperature</th>\n",
       "      <th>Agitator power</th>\n",
       "      <th>Cooling/heating medium flow rate</th>\n",
       "      <th>...</th>\n",
       "      <th>Dissolved oxygen concentration prior2</th>\n",
       "      <th>Dissolved CO2 concentration prior2</th>\n",
       "      <th>Reactor temperature prior2</th>\n",
       "      <th>pH prior2</th>\n",
       "      <th>Feed rate prior2</th>\n",
       "      <th>Feed temperature prior2</th>\n",
       "      <th>Agitator power prior2</th>\n",
       "      <th>Cooling/heating medium flow rate prior2</th>\n",
       "      <th>Cumulative base flow prior2</th>\n",
       "      <th>Cumulative acid flow prior2</th>\n",
       "    </tr>\n",
       "  </thead>\n",
       "  <tbody>\n",
       "    <tr>\n",
       "      <th>0</th>\n",
       "      <td>5.760000</td>\n",
       "      <td>95.278900</td>\n",
       "      <td>1.153800</td>\n",
       "      <td>0.500000</td>\n",
       "      <td>297.910000</td>\n",
       "      <td>5.002000</td>\n",
       "      <td>0.000000</td>\n",
       "      <td>296.040000</td>\n",
       "      <td>29.560000</td>\n",
       "      <td>0.000000</td>\n",
       "      <td>...</td>\n",
       "      <td>0.000000</td>\n",
       "      <td>0.000000</td>\n",
       "      <td>0.000000</td>\n",
       "      <td>0.000000</td>\n",
       "      <td>0.000000e+00</td>\n",
       "      <td>0.000000</td>\n",
       "      <td>0.000000</td>\n",
       "      <td>0.000000e+00</td>\n",
       "      <td>0.000000</td>\n",
       "      <td>0.000000</td>\n",
       "    </tr>\n",
       "    <tr>\n",
       "      <th>1</th>\n",
       "      <td>50.894837</td>\n",
       "      <td>94.390448</td>\n",
       "      <td>1.105594</td>\n",
       "      <td>1.599498</td>\n",
       "      <td>297.970325</td>\n",
       "      <td>5.082031</td>\n",
       "      <td>0.060215</td>\n",
       "      <td>296.008069</td>\n",
       "      <td>29.972236</td>\n",
       "      <td>21.337598</td>\n",
       "      <td>...</td>\n",
       "      <td>0.000000</td>\n",
       "      <td>0.000000</td>\n",
       "      <td>0.000000</td>\n",
       "      <td>0.000000</td>\n",
       "      <td>0.000000e+00</td>\n",
       "      <td>0.000000</td>\n",
       "      <td>0.000000</td>\n",
       "      <td>0.000000e+00</td>\n",
       "      <td>0.000000</td>\n",
       "      <td>0.000000</td>\n",
       "    </tr>\n",
       "    <tr>\n",
       "      <th>2</th>\n",
       "      <td>110.841631</td>\n",
       "      <td>96.565049</td>\n",
       "      <td>1.094002</td>\n",
       "      <td>2.427862</td>\n",
       "      <td>297.904680</td>\n",
       "      <td>4.994837</td>\n",
       "      <td>0.059749</td>\n",
       "      <td>295.931418</td>\n",
       "      <td>29.985320</td>\n",
       "      <td>46.104148</td>\n",
       "      <td>...</td>\n",
       "      <td>1.153800</td>\n",
       "      <td>0.500000</td>\n",
       "      <td>297.910000</td>\n",
       "      <td>5.002000</td>\n",
       "      <td>-3.197442e-14</td>\n",
       "      <td>296.040000</td>\n",
       "      <td>29.560000</td>\n",
       "      <td>5.440093e-15</td>\n",
       "      <td>0.000024</td>\n",
       "      <td>0.000005</td>\n",
       "    </tr>\n",
       "    <tr>\n",
       "      <th>3</th>\n",
       "      <td>157.120855</td>\n",
       "      <td>98.218117</td>\n",
       "      <td>1.086594</td>\n",
       "      <td>2.750265</td>\n",
       "      <td>298.005726</td>\n",
       "      <td>5.005043</td>\n",
       "      <td>0.060091</td>\n",
       "      <td>295.950427</td>\n",
       "      <td>30.117436</td>\n",
       "      <td>69.003419</td>\n",
       "      <td>...</td>\n",
       "      <td>1.105594</td>\n",
       "      <td>1.599498</td>\n",
       "      <td>297.970325</td>\n",
       "      <td>5.082031</td>\n",
       "      <td>6.021547e-02</td>\n",
       "      <td>296.008069</td>\n",
       "      <td>29.972236</td>\n",
       "      <td>2.133760e+01</td>\n",
       "      <td>0.002733</td>\n",
       "      <td>0.000007</td>\n",
       "    </tr>\n",
       "    <tr>\n",
       "      <th>4</th>\n",
       "      <td>165.481139</td>\n",
       "      <td>98.515685</td>\n",
       "      <td>1.088136</td>\n",
       "      <td>2.724702</td>\n",
       "      <td>298.031139</td>\n",
       "      <td>5.001626</td>\n",
       "      <td>0.059852</td>\n",
       "      <td>295.971708</td>\n",
       "      <td>29.820820</td>\n",
       "      <td>72.172255</td>\n",
       "      <td>...</td>\n",
       "      <td>1.094002</td>\n",
       "      <td>2.427862</td>\n",
       "      <td>297.904680</td>\n",
       "      <td>4.994837</td>\n",
       "      <td>5.974876e-02</td>\n",
       "      <td>295.931418</td>\n",
       "      <td>29.985320</td>\n",
       "      <td>4.610415e+01</td>\n",
       "      <td>0.004266</td>\n",
       "      <td>0.000007</td>\n",
       "    </tr>\n",
       "  </tbody>\n",
       "</table>\n",
       "<p>5 rows × 34 columns</p>\n",
       "</div>"
      ],
      "text/plain": [
       "         Time  Fermentation volume  Dissolved oxygen concentration  \\\n",
       "0    5.760000            95.278900                        1.153800   \n",
       "1   50.894837            94.390448                        1.105594   \n",
       "2  110.841631            96.565049                        1.094002   \n",
       "3  157.120855            98.218117                        1.086594   \n",
       "4  165.481139            98.515685                        1.088136   \n",
       "\n",
       "   Dissolved CO2 concentration  Reactor temperature        pH  Feed rate  \\\n",
       "0                     0.500000           297.910000  5.002000   0.000000   \n",
       "1                     1.599498           297.970325  5.082031   0.060215   \n",
       "2                     2.427862           297.904680  4.994837   0.059749   \n",
       "3                     2.750265           298.005726  5.005043   0.060091   \n",
       "4                     2.724702           298.031139  5.001626   0.059852   \n",
       "\n",
       "   Feed temperature  Agitator power  Cooling/heating medium flow rate  \\\n",
       "0        296.040000       29.560000                          0.000000   \n",
       "1        296.008069       29.972236                         21.337598   \n",
       "2        295.931418       29.985320                         46.104148   \n",
       "3        295.950427       30.117436                         69.003419   \n",
       "4        295.971708       29.820820                         72.172255   \n",
       "\n",
       "              ...               Dissolved oxygen concentration prior2  \\\n",
       "0             ...                                            0.000000   \n",
       "1             ...                                            0.000000   \n",
       "2             ...                                            1.153800   \n",
       "3             ...                                            1.105594   \n",
       "4             ...                                            1.094002   \n",
       "\n",
       "   Dissolved CO2 concentration prior2  Reactor temperature prior2  pH prior2  \\\n",
       "0                            0.000000                    0.000000   0.000000   \n",
       "1                            0.000000                    0.000000   0.000000   \n",
       "2                            0.500000                  297.910000   5.002000   \n",
       "3                            1.599498                  297.970325   5.082031   \n",
       "4                            2.427862                  297.904680   4.994837   \n",
       "\n",
       "   Feed rate prior2  Feed temperature prior2  Agitator power prior2  \\\n",
       "0      0.000000e+00                 0.000000               0.000000   \n",
       "1      0.000000e+00                 0.000000               0.000000   \n",
       "2     -3.197442e-14               296.040000              29.560000   \n",
       "3      6.021547e-02               296.008069              29.972236   \n",
       "4      5.974876e-02               295.931418              29.985320   \n",
       "\n",
       "   Cooling/heating medium flow rate prior2  Cumulative base flow prior2  \\\n",
       "0                             0.000000e+00                     0.000000   \n",
       "1                             0.000000e+00                     0.000000   \n",
       "2                             5.440093e-15                     0.000024   \n",
       "3                             2.133760e+01                     0.002733   \n",
       "4                             4.610415e+01                     0.004266   \n",
       "\n",
       "   Cumulative acid flow prior2  \n",
       "0                     0.000000  \n",
       "1                     0.000000  \n",
       "2                     0.000005  \n",
       "3                     0.000007  \n",
       "4                     0.000007  \n",
       "\n",
       "[5 rows x 34 columns]"
      ]
     },
     "execution_count": 166,
     "metadata": {},
     "output_type": "execute_result"
    }
   ],
   "source": [
    "df = pd.read_csv(\"../datasample/base1run1.csv\")\n",
    "df.head()"
   ]
  },
  {
   "cell_type": "markdown",
   "metadata": {},
   "source": [
    "The data need to be formatted as a DMatrix in order to predict. I then run the predictions and convert the results to a JSON object for return."
   ]
  },
  {
   "cell_type": "code",
   "execution_count": 167,
   "metadata": {
    "collapsed": false
   },
   "outputs": [
    {
     "data": {
      "text/plain": [
       "'[{\"Time\":5.76,\"predictions\":0.9074475765},{\"Time\":50.8948374253,\"predictions\":0.0001362579},{\"Time\":110.8416310874,\"predictions\":0.0004667733}]'"
      ]
     },
     "execution_count": 167,
     "metadata": {},
     "output_type": "execute_result"
    }
   ],
   "source": [
    "m1=df.as_matrix()[0:3,1:]\n",
    "if len(m1.shape) == 1:\n",
    "    inputdata=xgb.DMatrix(m1[np.newaxis,:],feature_names=bst.feature_names)\n",
    "else:\n",
    "    inputdata=xgb.DMatrix(m1,feature_names=bst.feature_names)\n",
    "\n",
    "preds = bst.predict(inputdata)\n",
    "#print(preds)\n",
    "l1=preds[:,0].tolist()\n",
    "l2=df.as_matrix()[0:3,0]\n",
    "pd.DataFrame({'Time':l2,'predictions':l1}).to_json(orient='records')"
   ]
  },
  {
   "cell_type": "markdown",
   "metadata": {},
   "source": [
    "# Flask Server\n",
    "\n",
    "I now make a server that will respond to post requests, make a prediction on the incomming data, and return the results as a JSON object."
   ]
  },
  {
   "cell_type": "code",
   "execution_count": 164,
   "metadata": {
    "collapsed": false
   },
   "outputs": [
    {
     "name": "stderr",
     "output_type": "stream",
     "text": [
      "127.0.0.1 - - [12/Jun/2017 13:22:04] \"POST /api HTTP/1.1\" 200 -\n",
      "127.0.0.1 - - [12/Jun/2017 13:22:04] \"POST /api HTTP/1.1\" 200 -\n",
      "127.0.0.1 - - [12/Jun/2017 13:22:04] \"POST /api HTTP/1.1\" 200 -\n",
      "127.0.0.1 - - [12/Jun/2017 13:22:04] \"POST /api HTTP/1.1\" 200 -\n"
     ]
    }
   ],
   "source": [
    "app = Flask(__name__)\n",
    "\n",
    "@app.route('/api',methods=['POST'])\n",
    "def make_predict():\n",
    "    dataobject = request.get_json(force=True)\n",
    "    #print(dataobject)\n",
    "    predict_request = list(dataobject['data'].values())\n",
    "    predict_request = np.array(predict_request[1:-1], dtype='f')\n",
    "    if len(predict_request.shape) == 1:\n",
    "        \n",
    "        times = np.array(predict_request[0], dtype='f')\n",
    "        inputdata=xgb.DMatrix(predict_request[np.newaxis,:],feature_names=bst.feature_names)\n",
    "    else:\n",
    "        times = np.array(predict_request[:,0], dtype='f')\n",
    "        inputdata=xgb.DMatrix(predict_request,feature_names=bst.feature_names)\n",
    "\n",
    "    preds = bst.predict(inputdata)\n",
    "    #print(preds)\n",
    "    output = preds[:,0].tolist()\n",
    "    \n",
    "    outputdf = pd.DataFrame({'Time':times,'predictions':output}).to_json(orient='records')\n",
    "    \n",
    "    returnmsg = jsonify(deviceId = dataobject['deviceId'],\n",
    "                        datetime = dataobject['datetime'],\n",
    "                        protocol = dataobject['protocol'],\n",
    "                        batchID = dataobject['data']['batchID'],\n",
    "                        results=json.loads(outputdf))\n",
    "    \n",
    "    return returnmsg\n",
    "\n",
    "@app.route(\"/\")\n",
    "def hello():\n",
    "    return \"Python Flask POST endpoint.\"\n",
    "\n",
    "#\n",
    "# Running app in Jupyter notebook:\n",
    "#\n",
    "\n",
    "from werkzeug.serving import run_simple\n",
    "run_simple('localhost', 9000, app)\n"
   ]
  },
  {
   "cell_type": "code",
   "execution_count": null,
   "metadata": {
    "collapsed": true
   },
   "outputs": [],
   "source": []
  }
 ],
 "metadata": {
  "kernelspec": {
   "display_name": "Python 3",
   "language": "python",
   "name": "python3"
  },
  "language_info": {
   "codemirror_mode": {
    "name": "ipython",
    "version": 3
   },
   "file_extension": ".py",
   "mimetype": "text/x-python",
   "name": "python",
   "nbconvert_exporter": "python",
   "pygments_lexer": "ipython3",
   "version": "3.6.0"
  }
 },
 "nbformat": 4,
 "nbformat_minor": 2
}
