{
 "cells": [
  {
   "cell_type": "markdown",
   "metadata": {
    "deletable": true,
    "editable": true
   },
   "source": [
    "# Batch Processing Error Detection\n",
    "\n",
    "Original data from:\n",
    "\n",
    "https://kuleuven.app.box.com/v/batchbenchmark/4/3864480711\n",
    "\n",
    "Data downloaded from:\n",
    "https://kuleuven.app.box.com/v/batchbenchmark/4/3864480711\n",
    "\n",
    "Data explanation in:\n",
    "simulated_data_paper.pdf\n",
    "\n",
    "An extensive reference dataset for fault detection and identification in batch processes\n",
    "\n",
    "Chemometrics and Intelligent Laboratory Systems\n",
    "Volume 148, 15 November 2015, Pages 20–31\n",
    "\n",
    "Jan Van Impe, Geert Gins (2015), An Extensive Reference Data Set for Fault Detection and Isolation in Batch Processes. (accepted for publication in Chemometrics & Intelligent Laboratory Systems).\n"
   ]
  },
  {
   "cell_type": "markdown",
   "metadata": {
    "deletable": true,
    "editable": true
   },
   "source": [
    "## Import and explore file structure"
   ]
  },
  {
   "cell_type": "code",
   "execution_count": 1,
   "metadata": {
    "collapsed": false,
    "deletable": true,
    "editable": true
   },
   "outputs": [],
   "source": [
    "import h5py\n",
    "import numpy as np\n",
    "import matplotlib.pyplot as plt\n",
    "from scipy.ndimage.interpolation import shift\n",
    "%matplotlib inline\n"
   ]
  },
  {
   "cell_type": "markdown",
   "metadata": {
    "deletable": true,
    "editable": true
   },
   "source": [
    "Looking first at the measurement data.\n",
    "\n",
    "The measurements available are:\n",
    "\n",
    "![data](offline_data.png)\n",
    "\n",
    "with online data:\n",
    "\n",
    "![data](online_data.png)"
   ]
  },
  {
   "cell_type": "code",
   "execution_count": 2,
   "metadata": {
    "collapsed": false,
    "deletable": true,
    "editable": true
   },
   "outputs": [
    {
     "name": "stdout",
     "output_type": "stream",
     "text": [
      "Var 0 : Time\n",
      "Var 1 : Fermentation volume\n",
      "Var 2 : Biomass concentration\n",
      "Var 3 : Substrate concentration\n",
      "Var 4 : Penicillin concentration\n",
      "Var 5 : Dissolved oxygen concentration\n",
      "Var 6 : Dissolved CO2 concentration\n",
      "Var 7 : Reactor temperature\n",
      "Var 8 : pH\n",
      "Var 9 : Reaction heat\n",
      "Var 10 : Feed rate\n",
      "Var 11 : Feed substrate concentration\n",
      "Var 12 : Feed temperature\n",
      "Var 13 : Aeration rate\n",
      "Var 14 : Agitator power\n",
      "Var 15 : Cooling/heating medium flow rate\n",
      "Var 16 : Cooling medium temperature\n",
      "Var 17 : Heating medium temperature\n",
      "Var 18 : Hot/cold switch\n",
      "Var 19 : Base flow\n",
      "Var 20 : Acid flow\n",
      "Var 21 : Cumulative base flow\n",
      "Var 22 : Cumulative acid flow\n",
      "Var 23 : True penicillin concentration\n"
     ]
    }
   ],
   "source": [
    "filepath = 'Aligned_set_1_BASE_NOC/Aligned_set_1_BASE_NOC.mat'\n",
    "f=h5py.File(filepath, 'r')\n",
    "for k in range(24):\n",
    "    st=f[\"/MeasurementsTags\"][0][k]\n",
    "    obj = f[st]\n",
    "    str1 = ''.join(chr(i) for i in obj[:])\n",
    "    print('Var', k, ':', str1 )"
   ]
  },
  {
   "cell_type": "markdown",
   "metadata": {
    "collapsed": true,
    "deletable": true,
    "editable": true
   },
   "source": [
    "# Data With Faults\n",
    "The faults look like this:\n",
    "\n",
    "![fault](faults.png)"
   ]
  },
  {
   "cell_type": "code",
   "execution_count": 3,
   "metadata": {
    "collapsed": false,
    "deletable": true,
    "editable": true
   },
   "outputs": [
    {
     "data": {
      "text/plain": [
       "(1201, 11, 400)"
      ]
     },
     "execution_count": 3,
     "metadata": {},
     "output_type": "execute_result"
    }
   ],
   "source": [
    "# First get golden data\n",
    "filepath = 'Aligned_set_1_BASE_NOC/Aligned_set_1_BASE_NOC.mat'\n",
    "g=h5py.File(filepath, 'r')\n",
    "onlinevars = [ 1, 5, 6, 7, 8, 10, 12, 14, 15, 19, 20]\n",
    "nofaultmat = g[\"/Measurements\"][:,onlinevars,:]\n",
    "nofaultmat.shape"
   ]
  },
  {
   "cell_type": "markdown",
   "metadata": {
    "deletable": true,
    "editable": true
   },
   "source": [
    "New approach: set up a new set of features that include the past N data points:\n",
    "\n",
    "(N=3):\n",
    "x03 x13 x23 x33 x02 x12 x22 x32 x01 x11 x21 x31 x00 x10 x20 x30\n",
    "\n",
    "to get there: first create the new columns from prior data, create a column for the label, then flatten everything.\n",
    "\n",
    "\n"
   ]
  },
  {
   "cell_type": "markdown",
   "metadata": {
    "deletable": true,
    "editable": true
   },
   "source": [
    "Variables to use (online monitoring):\n",
    "0, 1, 5, 6, 7, 8, 10, 12, 14, 15, 19, 20\n",
    "\n",
    "Subsetting, normalizing, and image-generation"
   ]
  },
  {
   "cell_type": "code",
   "execution_count": 11,
   "metadata": {
    "collapsed": false,
    "deletable": true,
    "editable": true
   },
   "outputs": [
    {
     "data": {
      "text/plain": [
       "(1921600, 34)"
      ]
     },
     "execution_count": 11,
     "metadata": {},
     "output_type": "execute_result"
    }
   ],
   "source": [
    "def enrichMat(m1,label):\n",
    "    m1shift1=shift(m1, [1,0,0], cval=0)\n",
    "    m1shift2=shift(m1, [2,0,0], cval=0)\n",
    "    #m1shift3=shift(m1, [3,0,0], cval=0)\n",
    "\n",
    "    m1class = np.ones((m1.shape[0],1,m1.shape[2]))*label\n",
    "\n",
    "    m1new=np.concatenate((m1class,m1,m1shift1,m1shift2),axis=1)\n",
    "                         #,m1shift3)\n",
    "\n",
    "\n",
    "    #print(m1new.shape)\n",
    "    m1new=np.swapaxes(m1new,1,2)\n",
    "    m1reshape = m1new.reshape((-1,m1new.shape[2]))\n",
    "    return m1reshape\n",
    "\n",
    "def getData(faultNums,\n",
    "            onlinevars):\n",
    "\n",
    "    \n",
    "    # First get golden data\n",
    "    filepath = 'Aligned_set_1_BASE_NOC/Aligned_set_1_BASE_NOC.mat'\n",
    "    g=h5py.File(filepath, 'r')\n",
    "    nofaultmat = g[\"/Measurements\"][:,onlinevars,:]\n",
    "    outputMat = enrichMat(nofaultmat,0)\n",
    "    \n",
    "    ifault=1\n",
    "    for faultNum in faultNums:\n",
    "        filepath = 'Aligned_set_1_BASE_fault_{0}/Aligned_set_1_BASE_fault_{0}.mat'.format(faultNum)\n",
    "        f = h5py.File(filepath, 'r')\n",
    "        # Get all of the fault data\n",
    "        fmat = f[\"/Measurements\"][:,onlinevars,:]\n",
    "        \n",
    "        #randomize it so we don't get all of one fault\n",
    "        shuffle = np.random.rand(fmat.shape[0]).argsort()\n",
    "        datarand = np.take(fmat,shuffle,axis=0)\n",
    "        \n",
    "        # use only the same amount of data as our nofaultmat\n",
    "        newMat = enrichMat(datarand[:,:,:nofaultmat.shape[2]],ifault)\n",
    "        outputMat=np.append(outputMat,newMat,axis=0)\n",
    "        ifault += 1\n",
    "        \n",
    "        \n",
    "    return outputMat\n",
    "allmat = getData([1,9,11],onlinevars = [ 1, 5, 6, 7, 8, 10, 12, 14, 15, 21, 22])   \n",
    "\n",
    "\n",
    "\n",
    "allmat.shape"
   ]
  },
  {
   "cell_type": "markdown",
   "metadata": {},
   "source": [
    "Ok, some metrics: not using any of the mshift points, I got about 70% accuracy in around 80 rounds using XGBoost. I'm now trying to add a single prior point to see if it helps training.\n",
    "\n",
    "Adding in the first shift significantly improves the model! I've got 89% accuracy after 100 rounds (saved in 0001.model)\n",
    "\n",
    "Trying the second shift, too.\n",
    "\n"
   ]
  },
  {
   "cell_type": "code",
   "execution_count": 12,
   "metadata": {
    "collapsed": true,
    "deletable": true,
    "editable": true
   },
   "outputs": [],
   "source": [
    "# First, shuffle the data\n",
    "shuffle = np.random.rand(allmat.shape[0]).argsort()\n",
    "datarand = np.take(allmat,shuffle,axis=0)\n",
    "\n",
    "# take a smaller subset to work with\n",
    "\n",
    "#datarand = datarand[:100000,:]\n",
    "\n",
    "ntrain = int(datarand.shape[0]*0.8)\n",
    "train_features = datarand[:ntrain, 1:]\n",
    "train_labels = datarand[:ntrain,0]\n",
    "test_features = datarand[ntrain:, 1:]\n",
    "test_labels = datarand[ntrain:,0]"
   ]
  },
  {
   "cell_type": "code",
   "execution_count": 13,
   "metadata": {
    "collapsed": false,
    "deletable": true,
    "editable": true
   },
   "outputs": [
    {
     "name": "stdout",
     "output_type": "stream",
     "text": [
      "[0]\teval-merror:0.262726\ttrain-merror:0.260177\n",
      "[1]\teval-merror:0.249068\ttrain-merror:0.246674\n",
      "[2]\teval-merror:0.243672\ttrain-merror:0.240958\n",
      "[3]\teval-merror:0.237555\ttrain-merror:0.233955\n",
      "[4]\teval-merror:0.229179\ttrain-merror:0.225764\n",
      "[5]\teval-merror:0.217269\ttrain-merror:0.2131\n",
      "[6]\teval-merror:0.202324\ttrain-merror:0.197991\n",
      "[7]\teval-merror:0.192327\ttrain-merror:0.187939\n",
      "[8]\teval-merror:0.189189\ttrain-merror:0.184536\n",
      "[9]\teval-merror:0.180165\ttrain-merror:0.174977\n",
      "[10]\teval-merror:0.175016\ttrain-merror:0.169342\n",
      "[11]\teval-merror:0.16691\ttrain-merror:0.161116\n",
      "[12]\teval-merror:0.163257\ttrain-merror:0.157084\n",
      "[13]\teval-merror:0.158711\ttrain-merror:0.152422\n",
      "[14]\teval-merror:0.153596\ttrain-merror:0.147172\n",
      "[15]\teval-merror:0.150557\ttrain-merror:0.143857\n",
      "[16]\teval-merror:0.147247\ttrain-merror:0.140302\n",
      "[17]\teval-merror:0.143846\ttrain-merror:0.13675\n",
      "[18]\teval-merror:0.1398\ttrain-merror:0.132541\n",
      "[19]\teval-merror:0.136131\ttrain-merror:0.128875\n",
      "[20]\teval-merror:0.131986\ttrain-merror:0.124778\n",
      "[21]\teval-merror:0.129322\ttrain-merror:0.121773\n",
      "[22]\teval-merror:0.12672\ttrain-merror:0.118844\n",
      "[23]\teval-merror:0.123634\ttrain-merror:0.115872\n",
      "[24]\teval-merror:0.120769\ttrain-merror:0.11283\n",
      "[25]\teval-merror:0.118851\ttrain-merror:0.110803\n",
      "[26]\teval-merror:0.116728\ttrain-merror:0.108475\n",
      "[27]\teval-merror:0.114379\ttrain-merror:0.106082\n",
      "[28]\teval-merror:0.111766\ttrain-merror:0.103504\n",
      "[29]\teval-merror:0.110189\ttrain-merror:0.101819\n",
      "[30]\teval-merror:0.108412\ttrain-merror:0.099828\n",
      "[31]\teval-merror:0.107041\ttrain-merror:0.098437\n",
      "[32]\teval-merror:0.105415\ttrain-merror:0.09658\n",
      "[33]\teval-merror:0.101975\ttrain-merror:0.093127\n",
      "[34]\teval-merror:0.100731\ttrain-merror:0.091717\n",
      "[35]\teval-merror:0.098197\ttrain-merror:0.089175\n",
      "[36]\teval-merror:0.096904\ttrain-merror:0.087815\n",
      "[37]\teval-merror:0.095493\ttrain-merror:0.086353\n",
      "[38]\teval-merror:0.094546\ttrain-merror:0.085391\n",
      "[39]\teval-merror:0.093183\ttrain-merror:0.084094\n",
      "[40]\teval-merror:0.091416\ttrain-merror:0.082273\n",
      "[41]\teval-merror:0.090487\ttrain-merror:0.081336\n",
      "[42]\teval-merror:0.088791\ttrain-merror:0.079736\n",
      "[43]\teval-merror:0.087958\ttrain-merror:0.078846\n",
      "[44]\teval-merror:0.086649\ttrain-merror:0.077525\n",
      "[45]\teval-merror:0.08603\ttrain-merror:0.076841\n",
      "[46]\teval-merror:0.083756\ttrain-merror:0.074587\n",
      "[47]\teval-merror:0.082928\ttrain-merror:0.073689\n",
      "[48]\teval-merror:0.081752\ttrain-merror:0.072442\n",
      "[49]\teval-merror:0.080888\ttrain-merror:0.071554\n",
      "[50]\teval-merror:0.079962\ttrain-merror:0.070579\n",
      "[51]\teval-merror:0.079267\ttrain-merror:0.069807\n",
      "[52]\teval-merror:0.078143\ttrain-merror:0.068627\n",
      "[53]\teval-merror:0.077363\ttrain-merror:0.067735\n",
      "[54]\teval-merror:0.076928\ttrain-merror:0.067361\n",
      "[55]\teval-merror:0.075193\ttrain-merror:0.065614\n",
      "[56]\teval-merror:0.073673\ttrain-merror:0.064098\n",
      "[57]\teval-merror:0.073212\ttrain-merror:0.063721\n",
      "[58]\teval-merror:0.07251\ttrain-merror:0.063014\n",
      "[59]\teval-merror:0.071545\ttrain-merror:0.061902\n",
      "[60]\teval-merror:0.07042\ttrain-merror:0.060769\n",
      "[61]\teval-merror:0.070061\ttrain-merror:0.060241\n",
      "[62]\teval-merror:0.069492\ttrain-merror:0.059716\n",
      "[63]\teval-merror:0.068815\ttrain-merror:0.058945\n",
      "[64]\teval-merror:0.068099\ttrain-merror:0.058309\n",
      "[65]\teval-merror:0.067475\ttrain-merror:0.057676\n",
      "[66]\teval-merror:0.067147\ttrain-merror:0.057374\n",
      "[67]\teval-merror:0.066067\ttrain-merror:0.056119\n",
      "[68]\teval-merror:0.064735\ttrain-merror:0.055015\n",
      "[69]\teval-merror:0.063458\ttrain-merror:0.053708\n",
      "[70]\teval-merror:0.063044\ttrain-merror:0.053251\n",
      "[71]\teval-merror:0.062359\ttrain-merror:0.052614\n",
      "[72]\teval-merror:0.062131\ttrain-merror:0.05234\n",
      "[73]\teval-merror:0.061454\ttrain-merror:0.051645\n",
      "[74]\teval-merror:0.061173\ttrain-merror:0.051306\n",
      "[75]\teval-merror:0.060046\ttrain-merror:0.050104\n",
      "[76]\teval-merror:0.05938\ttrain-merror:0.049456\n",
      "[77]\teval-merror:0.058834\ttrain-merror:0.048963\n",
      "[78]\teval-merror:0.058053\ttrain-merror:0.048132\n",
      "[79]\teval-merror:0.05715\ttrain-merror:0.047287\n",
      "[80]\teval-merror:0.056937\ttrain-merror:0.047016\n",
      "[81]\teval-merror:0.056305\ttrain-merror:0.046463\n",
      "[82]\teval-merror:0.055735\ttrain-merror:0.045891\n",
      "[83]\teval-merror:0.054957\ttrain-merror:0.045076\n",
      "[84]\teval-merror:0.054577\ttrain-merror:0.044739\n",
      "[85]\teval-merror:0.0539\ttrain-merror:0.044127\n",
      "[86]\teval-merror:0.053416\ttrain-merror:0.043678\n",
      "[87]\teval-merror:0.052979\ttrain-merror:0.043143\n",
      "[88]\teval-merror:0.052516\ttrain-merror:0.042677\n",
      "[89]\teval-merror:0.052027\ttrain-merror:0.042207\n",
      "[90]\teval-merror:0.051965\ttrain-merror:0.042136\n",
      "[91]\teval-merror:0.051309\ttrain-merror:0.041467\n",
      "[92]\teval-merror:0.051244\ttrain-merror:0.041352\n",
      "[93]\teval-merror:0.050851\ttrain-merror:0.040952\n",
      "[94]\teval-merror:0.049938\ttrain-merror:0.039948\n",
      "[95]\teval-merror:0.049355\ttrain-merror:0.039425\n",
      "[96]\teval-merror:0.048889\ttrain-merror:0.039038\n",
      "[97]\teval-merror:0.047794\ttrain-merror:0.038035\n",
      "[98]\teval-merror:0.046763\ttrain-merror:0.037031\n",
      "[99]\teval-merror:0.046506\ttrain-merror:0.03682\n"
     ]
    }
   ],
   "source": [
    "import xgboost as xgb\n",
    "\n",
    "dtrain = xgb.DMatrix(train_features, label=train_labels)\n",
    "dtest= xgb.DMatrix(test_features,label=test_labels)\n",
    "\n",
    "watchlist  = [(dtest,'eval'), (dtrain,'train')]\n",
    "param = {'max_depth':10, 'eta':0.3, 'silent':0, 'gamma':5,'objective':'multi:softprob','num_class':len(np.unique(datarand[:,0])) }\n",
    "num_round = 100\n",
    "bst = xgb.train(param, dtrain, num_round,watchlist)\n",
    "\n"
   ]
  },
  {
   "cell_type": "markdown",
   "metadata": {},
   "source": [
    "The model with a single set of prior readings is pretty good. I'm saving it just in case the other models don't do any better."
   ]
  },
  {
   "cell_type": "code",
   "execution_count": 14,
   "metadata": {
    "collapsed": true
   },
   "outputs": [],
   "source": [
    "bst.save_model('0002.model')"
   ]
  },
  {
   "cell_type": "code",
   "execution_count": 15,
   "metadata": {
    "collapsed": false,
    "deletable": true,
    "editable": true
   },
   "outputs": [
    {
     "name": "stdout",
     "output_type": "stream",
     "text": [
      "Accuracy Score: 0.9534944837635304\n"
     ]
    },
    {
     "data": {
      "image/png": "[encoded data removed]",
      "text/plain": [
       "<matplotlib.figure.Figure at 0x7ff8d606f278>"
      ]
     },
     "metadata": {},
     "output_type": "display_data"
    }
   ],
   "source": [
    "from sklearn.metrics import confusion_matrix\n",
    "from sklearn.metrics import accuracy_score\n",
    "\n",
    "# make prediction\n",
    "preds = bst.predict(dtest)\n",
    "\n",
    "y_pred = np.argmax(preds,axis=1)\n",
    "\n",
    "def show_confusion_matrix(cnf_matrix, class_labels):\n",
    "    plt.matshow(cnf_matrix,cmap=plt.cm.YlGn,alpha=0.7)\n",
    "    ax = plt.gca()\n",
    "    ax.set_xlabel('Predicted Label', fontsize=16)\n",
    "    ax.set_xticks(range(0,len(class_labels)))\n",
    "    ax.set_xticklabels(class_labels)\n",
    "    ax.set_ylabel('Actual Label', fontsize=16, rotation=90)\n",
    "    ax.set_yticks(range(0,len(class_labels)))\n",
    "    ax.set_yticklabels(class_labels)\n",
    "    ax.xaxis.set_label_position('top')\n",
    "    ax.xaxis.tick_top()\n",
    "\n",
    "    for row in range(len(cnf_matrix)):\n",
    "        for col in range(len(cnf_matrix[row])):\n",
    "            ax.text(col, row, cnf_matrix[row][col], va='center', ha='center', fontsize=16)\n",
    "\n",
    "\n",
    "cnf_matrix = confusion_matrix(test_labels, y_pred)\n",
    "show_confusion_matrix(cnf_matrix,np.unique(datarand[:,0]))\n",
    "acc_score = accuracy_score(test_labels, y_pred)\n",
    "\n",
    "print(\"Accuracy Score: {}\".format(acc_score))"
   ]
  },
  {
   "cell_type": "markdown",
   "metadata": {
    "collapsed": true,
    "deletable": true,
    "editable": true
   },
   "source": [
    "So this is doing a reasonable job, which is good!\n",
    "\n",
    "Trying all the faults (on a faster machine).\n"
   ]
  },
  {
   "cell_type": "code",
   "execution_count": null,
   "metadata": {
    "collapsed": true,
    "deletable": true,
    "editable": true
   },
   "outputs": [],
   "source": []
  },
  {
   "cell_type": "code",
   "execution_count": null,
   "metadata": {
    "collapsed": true,
    "deletable": true,
    "editable": true
   },
   "outputs": [],
   "source": []
  },
  {
   "cell_type": "code",
   "execution_count": null,
   "metadata": {
    "collapsed": true,
    "deletable": true,
    "editable": true
   },
   "outputs": [],
   "source": []
  }
 ],
 "metadata": {
  "kernelspec": {
   "display_name": "Python 3",
   "language": "python",
   "name": "python3"
  },
  "language_info": {
   "codemirror_mode": {
    "name": "ipython",
    "version": 3
   },
   "file_extension": ".py",
   "mimetype": "text/x-python",
   "name": "python",
   "nbconvert_exporter": "python",
   "pygments_lexer": "ipython3",
   "version": "3.6.0"
  }
 },
 "nbformat": 4,
 "nbformat_minor": 2
}
